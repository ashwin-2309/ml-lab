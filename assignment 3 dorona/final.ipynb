{
 "cells": [
  {
   "cell_type": "code",
   "execution_count": 2,
   "metadata": {},
   "outputs": [
    {
     "ename": "ModuleNotFoundError",
     "evalue": "No module named 'numpy'",
     "output_type": "error",
     "traceback": [
      "\u001b[1;31m---------------------------------------------------------------------------\u001b[0m",
      "\u001b[1;31mModuleNotFoundError\u001b[0m                       Traceback (most recent call last)",
      "Cell \u001b[1;32mIn[2], line 1\u001b[0m\n\u001b[1;32m----> 1\u001b[0m \u001b[39mimport\u001b[39;00m \u001b[39mnumpy\u001b[39;00m \u001b[39mas\u001b[39;00m \u001b[39mnp\u001b[39;00m\n\u001b[0;32m      2\u001b[0m \u001b[39mimport\u001b[39;00m \u001b[39mmatplotlib\u001b[39;00m\u001b[39m.\u001b[39;00m\u001b[39mpyplot\u001b[39;00m \u001b[39mas\u001b[39;00m \u001b[39mplt\u001b[39;00m\n\u001b[0;32m      3\u001b[0m \u001b[39mfrom\u001b[39;00m \u001b[39msklearn\u001b[39;00m\u001b[39m.\u001b[39;00m\u001b[39mlinear_model\u001b[39;00m \u001b[39mimport\u001b[39;00m LinearRegression\n",
      "\u001b[1;31mModuleNotFoundError\u001b[0m: No module named 'numpy'"
     ]
    }
   ],
   "source": [
    "import numpy as np\n",
    "import matplotlib.pyplot as plt\n",
    "from sklearn.linear_model import LinearRegression\n",
    "\n",
    "def log_regression(start_year, end_year, pct_train):\n",
    "    # Create the years array\n",
    "    years = np.arange(start_year, end_year + 1)\n",
    "\n",
    "    # Calculate the time offset from 1900\n",
    "    time = years - 1900\n",
    "\n",
    "    # Generate some dummy data for the number of Dorena cases\n",
    "    d = 100 * (2.4) ** time + np.random.normal(0, 1, len(time))\n",
    "\n",
    "    # Calculate the logarithm of the data\n",
    "    log_d = np.log(d)\n",
    "\n",
    "    # Split the data into training and testing sets\n",
    "    train_size = int(pct_train * len(time))\n",
    "    train_time = time[:train_size]\n",
    "    test_time = time[train_size:]\n",
    "    train_log_d = log_d[:train_size]\n",
    "    test_log_d = log_d[train_size:]\n",
    "\n",
    "    # Fit the linear regression model to the training data\n",
    "    reg = LinearRegression().fit(train_time.reshape(-1, 1), train_log_d)\n",
    "\n",
    "    # Predict the logarithm of the number of Dorena cases for the training and testing sets\n",
    "    train_log_d_pred = reg.predict(train_time.reshape(-1, 1))\n",
    "    test_log_d_pred = reg.predict(test_time.reshape(-1, 1))\n",
    "\n",
    "    # Calculate the accuracy of the model on the training and testing sets\n",
    "    train_accuracy = reg.score(train_time.reshape(-1, 1), train_log_d)\n",
    "    test_accuracy = reg.score(test_time.reshape(-1, 1), test_log_d)\n",
    "\n",
    "    # Plot the data and the regression line\n",
    "    plt.scatter(train_time, train_log_d, label=\"Training Data\")\n",
    "    plt.scatter(test_time, test_log_d, label=\"Testing Data\")\n",
    "    plt.plot(time, reg.predict(time.reshape(-1, 1)), color='red', label=\"Regression Line\")\n",
    "    plt.xlabel(\"Year\")\n",
    "    plt.ylabel(\"Log of Dorena cases\")\n",
    "    plt.title(\"Linear Regression\")\n",
    "    plt.legend()\n",
    "    plt.show()\n",
    "\n",
    "    # Print the accuracy of the model on the training and testing sets\n",
    "    print(\"Training accuracy:\", train_accuracy)\n",
    "    print(\"Testing accuracy:\", test_accuracy)\n"
   ]
  }
 ],
 "metadata": {
  "kernelspec": {
   "display_name": "Python 3",
   "language": "python",
   "name": "python3"
  },
  "language_info": {
   "codemirror_mode": {
    "name": "ipython",
    "version": 3
   },
   "file_extension": ".py",
   "mimetype": "text/x-python",
   "name": "python",
   "nbconvert_exporter": "python",
   "pygments_lexer": "ipython3",
   "version": "3.10.8"
  },
  "orig_nbformat": 4,
  "vscode": {
   "interpreter": {
    "hash": "6649e1f9e63a62e6db810ea540358e941696d1b26200a3f993f5b4be59ebfa68"
   }
  }
 },
 "nbformat": 4,
 "nbformat_minor": 2
}
