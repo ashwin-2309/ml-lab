{
 "cells": [
  {
   "cell_type": "code",
   "execution_count": 1,
   "metadata": {},
   "outputs": [
    {
     "name": "stdout",
     "output_type": "stream",
     "text": [
      "List Access Time:  0.0\n",
      "Tuple Access Time:  0.0\n",
      "Array Access Time:  0.0\n"
     ]
    }
   ],
   "source": [
    "import time\n",
    "\n",
    "# Test list\n",
    "lst = [i for i in range(1000000)]\n",
    "start = time.time()\n",
    "lst[1000] # Accessing an element\n",
    "end = time.time()\n",
    "print(\"List Access Time: \", end - start)\n",
    "\n",
    "# Test tuple\n",
    "tpl = tuple(i for i in range(1000000))\n",
    "start = time.time()\n",
    "tpl[1000] # Accessing an element\n",
    "end = time.time()\n",
    "print(\"Tuple Access Time: \", end - start)\n",
    "\n",
    "# Test array\n",
    "import array\n",
    "arr = array.array(\"i\", [i for i in range(1000000)])\n",
    "start = time.time()\n",
    "arr[1000] # Accessing an element\n",
    "end = time.time()\n",
    "print(\"Array Access Time: \", end - start)"
   ]
  },
  {
   "cell_type": "code",
   "execution_count": 2,
   "metadata": {},
   "outputs": [
    {
     "name": "stdout",
     "output_type": "stream",
     "text": [
      "List Access Time:  0.0\n"
     ]
    }
   ],
   "source": [
    "import time\n",
    "\n",
    "# Test list\n",
    "lst = [i for i in range(1000000)]\n",
    "start = time.time()\n",
    "lst[1000] # Accessing an element\n",
    "end = time.time()\n",
    "print(\"List Access Time: \", end - start)"
   ]
  }
 ],
 "metadata": {
  "kernelspec": {
   "display_name": "Python 3",
   "language": "python",
   "name": "python3"
  },
  "language_info": {
   "codemirror_mode": {
    "name": "ipython",
    "version": 3
   },
   "file_extension": ".py",
   "mimetype": "text/x-python",
   "name": "python",
   "nbconvert_exporter": "python",
   "pygments_lexer": "ipython3",
   "version": "3.10.8 (tags/v3.10.8:aaaf517, Oct 11 2022, 16:50:30) [MSC v.1933 64 bit (AMD64)]"
  },
  "orig_nbformat": 4,
  "vscode": {
   "interpreter": {
    "hash": "6649e1f9e63a62e6db810ea540358e941696d1b26200a3f993f5b4be59ebfa68"
   }
  }
 },
 "nbformat": 4,
 "nbformat_minor": 2
}
